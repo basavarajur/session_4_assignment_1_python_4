{
 "cells": [
  {
   "cell_type": "markdown",
   "metadata": {},
   "source": [
    "### 1.1 Write a Python Program(with class concepts) to find the area of the triangle using the below formula. \n",
    "### area = (s*(s-a)*(s-b)*(s-c)) *** 0.5 \n",
    "###  Function to take the length of the sides of triangle from user should be defined in the parent class and function to calculate the area should be defined in subclass."
   ]
  },
  {
   "cell_type": "code",
   "execution_count": 49,
   "metadata": {},
   "outputs": [
    {
     "name": "stdout",
     "output_type": "stream",
     "text": [
      "enter first side of the triangle in sq units : 4\n",
      "enter second side of the triangle in sq units : 5\n",
      "enter third side of the triangle in sq units : 6\n",
      "area of the triangle in sq units :  9.921567416492215\n"
     ]
    }
   ],
   "source": [
    "class Triange:\n",
    "    def __init__(self,a,b,c):\n",
    "        self.a = a\n",
    "        self.b = b\n",
    "        self.c = c\n",
    "    def area(self):\n",
    "        s = (self.a + self.b + self.c) / 2\n",
    "        area = (s*(s-self.a)*(s-self.b)*(s-self.c))**0.5\n",
    "        return area\n",
    "    \n",
    "first_side = int(input(\"enter first side of the triangle in sq units : \"))\n",
    "second_side = int(input(\"enter second side of the triangle in sq units : \"))\n",
    "third_side = int(input(\"enter third side of the triangle in sq units : \"))\n",
    "\n",
    "object = Triange(first_side, second_side, third_side)\n",
    "result1 = object.area()\n",
    "\n",
    "print('area of the triangle in sq units : ', result1)\n",
    "\n"
   ]
  },
  {
   "cell_type": "markdown",
   "metadata": {},
   "source": [
    "### 1.2 Write a function filter_long_words() that takes a list of words and an integer n and returns the list of words that are longer than n."
   ]
  },
  {
   "cell_type": "code",
   "execution_count": 50,
   "metadata": {},
   "outputs": [
    {
     "name": "stdout",
     "output_type": "stream",
     "text": [
      "Enter the list of words separated by comma: b,ba,bas,basav,basava,basavar,basavara,basavaraju\n",
      "minimum length of the word: 5\n",
      "['basava', 'basavar', 'basavara', 'basavaraju']\n"
     ]
    }
   ],
   "source": [
    "def filter_long_words(l1,n):\n",
    "    l2 = [x \n",
    "          for x in l1 \n",
    "          if len(x)>n]\n",
    "    return l2\n",
    "    \n",
    "    \n",
    "list_of_words = input(\"Enter the list of words separated by comma: \")\n",
    "words_list = list_of_words.split(\",\")\n",
    "number = int(input(\"minimum length of the word: \"))\n",
    "\n",
    "result2 = filter_long_words(words_list, number)\n",
    "\n",
    "print (result2)\n",
    "             "
   ]
  },
  {
   "cell_type": "markdown",
   "metadata": {},
   "source": [
    "### 2.1 Write a Python program using function concept that maps list of words into a list of integers representing the lengths of the corresponding words .\n",
    "### Hint: If a list [ ab,cde,erty] is passed on to the python function output should come as [2,3,4]\n",
    "### Here 2,3 and 4 are the lengths of the words in the list."
   ]
  },
  {
   "cell_type": "code",
   "execution_count": 51,
   "metadata": {},
   "outputs": [
    {
     "name": "stdout",
     "output_type": "stream",
     "text": [
      "Enter the list of words separated by comma: b,ba,bas,basav,basava,basavar,basavara,basavaraju\n",
      "[1, 2, 3, 5, 6, 7, 8, 10]\n"
     ]
    }
   ],
   "source": [
    "def length_words(l1):\n",
    "    l2 = [len(x) \n",
    "          for x in l1]\n",
    "    return l2\n",
    "    \n",
    "    \n",
    "list_of_words1 = input(\"Enter the list of words separated by comma: \")\n",
    "words_list1 = list_of_words1.split(\",\")\n",
    "\n",
    "result3 = length_words(words_list1)\n",
    "\n",
    "print (result3)"
   ]
  },
  {
   "cell_type": "markdown",
   "metadata": {},
   "source": [
    "### 2.2 Write a Python function which takes a character (i.e. a string of length 1) and returns True if it is a vowel, False otherwise."
   ]
  },
  {
   "cell_type": "code",
   "execution_count": 53,
   "metadata": {},
   "outputs": [
    {
     "name": "stdout",
     "output_type": "stream",
     "text": [
      "enter a string of length 1 :i\n",
      "True\n"
     ]
    }
   ],
   "source": [
    "def check_vowel(x):\n",
    "    vowels = ['a','e','i','o','u']\n",
    "    y = x in vowels\n",
    "    return y\n",
    "\n",
    "ch = input(\"enter a string of length 1 :\")\n",
    "\n",
    "result4 = check_vowel(ch)\n",
    "print(result4)"
   ]
  },
  {
   "cell_type": "code",
   "execution_count": null,
   "metadata": {},
   "outputs": [],
   "source": []
  }
 ],
 "metadata": {
  "kernelspec": {
   "display_name": "Python 3",
   "language": "python",
   "name": "python3"
  },
  "language_info": {
   "codemirror_mode": {
    "name": "ipython",
    "version": 3
   },
   "file_extension": ".py",
   "mimetype": "text/x-python",
   "name": "python",
   "nbconvert_exporter": "python",
   "pygments_lexer": "ipython3",
   "version": "3.6.6"
  }
 },
 "nbformat": 4,
 "nbformat_minor": 2
}
